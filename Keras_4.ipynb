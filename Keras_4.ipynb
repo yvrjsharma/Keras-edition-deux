{
  "nbformat": 4,
  "nbformat_minor": 0,
  "metadata": {
    "colab": {
      "name": "Keras-4.ipynb",
      "provenance": [],
      "collapsed_sections": [],
      "authorship_tag": "ABX9TyOGrA4ceMnsfNUuJiBw2gLx",
      "include_colab_link": true
    },
    "kernelspec": {
      "name": "python3",
      "display_name": "Python 3"
    },
    "language_info": {
      "name": "python"
    }
  },
  "cells": [
    {
      "cell_type": "markdown",
      "metadata": {
        "id": "view-in-github",
        "colab_type": "text"
      },
      "source": [
        "<a href=\"https://colab.research.google.com/github/yvrjsharma/Keras-edition-deux/blob/main/Keras_4.ipynb\" target=\"_parent\"><img src=\"https://colab.research.google.com/assets/colab-badge.svg\" alt=\"Open In Colab\"/></a>"
      ]
    },
    {
      "cell_type": "markdown",
      "source": [
        "# Homework 15 Jan"
      ],
      "metadata": {
        "id": "WB2p1s5c65R5"
      }
    },
    {
      "cell_type": "markdown",
      "source": [
        "* Work on group exercise\n",
        "\n",
        "* Watch RTDL paper summary (??)\n",
        "\n",
        "* Create Keras model for TPS competition\n",
        "\n",
        "* Model initializers - Kaimin He intialization. Try different ones.\n",
        "\n",
        "* Rachel thomas how and why to create a goood validation set?\n",
        "\n",
        "* Chap6 - Universe of ML workflow space\n",
        "\n",
        "Boris dayma's work on Optimizer\n",
        "\n",
        "Check model.compile on keras.io\n",
        "\n"
      ],
      "metadata": {
        "id": "pmO4a66l8LIW"
      }
    }
  ]
}