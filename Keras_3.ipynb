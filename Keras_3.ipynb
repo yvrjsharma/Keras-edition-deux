{
  "nbformat": 4,
  "nbformat_minor": 0,
  "metadata": {
    "colab": {
      "name": "Keras-3.ipynb",
      "provenance": [],
      "collapsed_sections": [],
      "authorship_tag": "ABX9TyPsAOIvYYba6V8zodgMJVwC",
      "include_colab_link": true
    },
    "kernelspec": {
      "name": "python3",
      "display_name": "Python 3"
    },
    "language_info": {
      "name": "python"
    },
    "accelerator": "GPU"
  },
  "cells": [
    {
      "cell_type": "markdown",
      "metadata": {
        "id": "view-in-github",
        "colab_type": "text"
      },
      "source": [
        "<a href=\"https://colab.research.google.com/github/yvrjsharma/Keras-edition-deux/blob/main/Keras_3.ipynb\" target=\"_parent\"><img src=\"https://colab.research.google.com/assets/colab-badge.svg\" alt=\"Open In Colab\"/></a>"
      ]
    },
    {
      "cell_type": "markdown",
      "source": [
        "# Classification and Regression using Deep Learning with Keras"
      ],
      "metadata": {
        "id": "5bHbjfjQk7oV"
      }
    },
    {
      "cell_type": "markdown",
      "source": [
        "Implementing end-to-end ML workflows - Data preprpocessing, basic model building, and model evaluation."
      ],
      "metadata": {
        "id": "MHGeFYMnlDr9"
      }
    },
    {
      "cell_type": "markdown",
      "source": [
        "## Classification \n",
        "\n",
        "* IMDB movies review dataset\n",
        "* Task : Classify each review as negative or positive movie review\n",
        "\n",
        "IMDB dataset has 50k movie reviews, and it comes packaged with Keras. It is divided in training and validation sets with 25k reviews each. Both sets havve 50% s negative and positive reviews by design. The dataset comes preprocess, thus the reviews are already represented as set of numbers and we dont have to worry about transforming words into numbers. Also note that we are keeping only *top* 10000 words by occurrency counts.\n",
        "\n",
        "You can get the words back from the set of numbers representing them, by using the dictionary representing words mapping to integer indexes. It is also shown in below code."
      ],
      "metadata": {
        "id": "23cWBixGlkXv"
      }
    },
    {
      "cell_type": "code",
      "execution_count": 1,
      "metadata": {
        "colab": {
          "base_uri": "https://localhost:8080/"
        },
        "id": "kRa6m72Dk0Wu",
        "outputId": "c600127b-f2f9-43cb-b2c3-abc6ef353ab4"
      },
      "outputs": [
        {
          "output_type": "stream",
          "name": "stdout",
          "text": [
            "Downloading data from https://storage.googleapis.com/tensorflow/tf-keras-datasets/imdb.npz\n",
            "17465344/17464789 [==============================] - 0s 0us/step\n",
            "17473536/17464789 [==============================] - 0s 0us/step\n"
          ]
        }
      ],
      "source": [
        "from tensorflow.keras.datasets import imdb\n",
        "(train_data, train_labels), (test_data, test_labels) = imdb.load_data(num_words=10000)"
      ]
    },
    {
      "cell_type": "code",
      "source": [
        "#Getting original words back\n",
        "word_index =  imdb.get_word_index()\n",
        "reverse_word_index = dict([(value, key) for (key, value) in word_index.items()])\n",
        "\n",
        "decoded_review = \" \".join([reverse_word_index.get(i-3, \"?\") for i in train_data[0]])\n",
        "print(decoded_review)"
      ],
      "metadata": {
        "colab": {
          "base_uri": "https://localhost:8080/"
        },
        "id": "wC0ztcl4nsFO",
        "outputId": "25880170-a30e-4f9a-81db-329c2d4381b5"
      },
      "execution_count": 2,
      "outputs": [
        {
          "output_type": "stream",
          "name": "stdout",
          "text": [
            "Downloading data from https://storage.googleapis.com/tensorflow/tf-keras-datasets/imdb_word_index.json\n",
            "1646592/1641221 [==============================] - 0s 0us/step\n",
            "1654784/1641221 [==============================] - 0s 0us/step\n",
            "? this film was just brilliant casting location scenery story direction everyone's really suited the part they played and you could just imagine being there robert ? is an amazing actor and now the same being director ? father came from the same scottish island as myself so i loved the fact there was a real connection with this film the witty remarks throughout the film were great it was just brilliant so much that i bought the film as soon as it was released for ? and would recommend it to everyone to watch and the fly fishing was amazing really cried at the end it was so sad and you know what they say if you cry at a film it must have been good and this definitely was also ? to the two little boy's that played the ? of norman and paul they were just brilliant children are often left out of the ? list i think because the stars that play them all grown up are such a big profile for the whole film but these children are amazing and should be praised for what they have done don't you think the whole story was so lovely because it was true and was someone's life after all that was shared with us all\n"
          ]
        }
      ]
    },
    {
      "cell_type": "markdown",
      "source": [
        "### Preparing the data\n",
        "* The input text rows should all be equal in length and should all be represented as integers. We need to convert our input into tensors.\n",
        "* Two ways of ddoing this - *Pad* all input lists to have the same length. Start the model with a layer capable of handling the integer tensors.\n",
        "* Another way would be to multi-hot encode the words. So if there are 10000 unique words that would mean every word would be represented as a very sparse 10000 dimensional vector with all the values as 0s except the word itself as 1.3"
      ],
      "metadata": {
        "id": "ZqjgZh-qizxG"
      }
    },
    {
      "cell_type": "code",
      "source": [
        "#multi hot encoding\n",
        "import numpy as np\n",
        "def vectorize_sequences(sequences, dimension=10000):\n",
        "  #creating matrix of shape total samples x dimension \n",
        "  results = np.zeros((len(sequences), dimension))\n",
        "  for i, sequence in enumerate(sequences):\n",
        "    for j in sequence:\n",
        "      results[i,j] = 1.\n",
        "  return results\n",
        "\n",
        "x_train = vectorize_sequences(train_data)\n",
        "x_test = vectorize_sequences(test_data)"
      ],
      "metadata": {
        "id": "Zt5UgAo_l6Qy"
      },
      "execution_count": 5,
      "outputs": []
    },
    {
      "cell_type": "code",
      "source": [
        "#display a smaple\n",
        "print(x_train.shape, x_train[0])\n",
        "\n",
        "#Vectorizing the labels\n",
        "y_train = np.asarray(train_labels).astype(\"float32\")\n",
        "y_test = np.asarray(test_labels).astype(\"float32\")\n",
        "\n",
        "#sample a label\n",
        "print(len(y_train), y_train)"
      ],
      "metadata": {
        "colab": {
          "base_uri": "https://localhost:8080/"
        },
        "id": "MkIGv_04papV",
        "outputId": "3236d81d-22b0-4a26-de4f-c204b93544cf"
      },
      "execution_count": 10,
      "outputs": [
        {
          "output_type": "stream",
          "name": "stdout",
          "text": [
            "(25000, 10000) [0. 1. 1. ... 0. 0. 0.]\n",
            "25000 [1. 0. 0. ... 0. 1. 0.]\n"
          ]
        }
      ]
    },
    {
      "cell_type": "markdown",
      "source": [
        "### Building the model\n",
        "\n",
        "We will solve this classification problem of IMDB reviews, in which input is expressed as sparse vectors and targets as a scalar using densely connected neural network. We need to decide how many layers to use and how many units/*neurons* to put in each layer. We can start with 3 layers, with first two layers with 16 units, while the last would have one unit to output the sentiment.\n",
        "\n",
        "We will be using BinaryCrossEntropy as the los function as we have probabilities as outputs and it is a binary classification problem we are delaing with. For optimizer we will use RMSprop whih is a good solid first choice in most of the problems.\n"
      ],
      "metadata": {
        "id": "I0n71ZqvpYRt"
      }
    },
    {
      "cell_type": "code",
      "source": [
        "#Keras implementation of such neural network\n",
        "from tensorflow import keras\n",
        "from tensorflow.keras import layers\n",
        "\n",
        "model = keras.Sequential([\n",
        "                          layers.Dense(16, activation=\"relu\"),\n",
        "                          layers.Dense(16, activation=\"relu\"),\n",
        "                          #Sigmoid to output a probability value between 0 and 1\n",
        "                          layers.Dense(1, activation=\"sigmoid\")\n",
        "                        ])\n",
        "\n",
        "model.compile(optimizer=\"RMSprop\",\n",
        "              loss=\"binary_crossentropy\",\n",
        "              metrics=[\"accuracy\"])"
      ],
      "metadata": {
        "id": "NP5lvQzet1Ub"
      },
      "execution_count": 21,
      "outputs": []
    },
    {
      "cell_type": "markdown",
      "source": [
        "### Validation set \n",
        "Setting apart 10000 reviews as validation set. We will not be training on this set, however will be evaluatinng the trained model."
      ],
      "metadata": {
        "id": "8AdyyWvm09hF"
      }
    },
    {
      "cell_type": "code",
      "source": [
        "x_val = x_train[:10000]\n",
        "y_val = y_train[:10000]\n",
        "\n",
        "partial_x_train = x_train[10000:]\n",
        "partial_y_train = y_train[10000:]"
      ],
      "metadata": {
        "id": "c9ZVTR3W02Fw"
      },
      "execution_count": 23,
      "outputs": []
    },
    {
      "cell_type": "markdown",
      "source": [
        "### Training\n",
        "\n",
        "Training the model for 20 epochs over entire new training set. Lets set a mini-batch size of 512 reviews. "
      ],
      "metadata": {
        "id": "-kp2BEF31vT9"
      }
    },
    {
      "cell_type": "code",
      "source": [
        "history = model.fit(partial_x_train, partial_y_train,\n",
        "                    epochs=20,\n",
        "                    batch_size=512,\n",
        "                    validation_data=(x_val, y_val))"
      ],
      "metadata": {
        "colab": {
          "base_uri": "https://localhost:8080/"
        },
        "id": "3wM3wwMV2PZS",
        "outputId": "795026e1-2fd4-41d4-cecf-790818dbfdad"
      },
      "execution_count": 25,
      "outputs": [
        {
          "output_type": "stream",
          "name": "stdout",
          "text": [
            "Epoch 1/20\n",
            "30/30 [==============================] - 3s 40ms/step - loss: 0.5297 - accuracy: 0.7892 - val_loss: 0.3983 - val_accuracy: 0.8695\n",
            "Epoch 2/20\n",
            "30/30 [==============================] - 1s 19ms/step - loss: 0.3220 - accuracy: 0.8984 - val_loss: 0.3255 - val_accuracy: 0.8730\n",
            "Epoch 3/20\n",
            "30/30 [==============================] - 1s 18ms/step - loss: 0.2350 - accuracy: 0.9235 - val_loss: 0.2830 - val_accuracy: 0.8887\n",
            "Epoch 4/20\n",
            "30/30 [==============================] - 1s 19ms/step - loss: 0.1846 - accuracy: 0.9389 - val_loss: 0.2761 - val_accuracy: 0.8910\n",
            "Epoch 5/20\n",
            "30/30 [==============================] - 1s 18ms/step - loss: 0.1508 - accuracy: 0.9513 - val_loss: 0.2782 - val_accuracy: 0.8900\n",
            "Epoch 6/20\n",
            "30/30 [==============================] - 1s 19ms/step - loss: 0.1266 - accuracy: 0.9588 - val_loss: 0.2884 - val_accuracy: 0.8885\n",
            "Epoch 7/20\n",
            "30/30 [==============================] - 1s 19ms/step - loss: 0.1040 - accuracy: 0.9687 - val_loss: 0.3066 - val_accuracy: 0.8832\n",
            "Epoch 8/20\n",
            "30/30 [==============================] - 1s 19ms/step - loss: 0.0884 - accuracy: 0.9736 - val_loss: 0.3242 - val_accuracy: 0.8845\n",
            "Epoch 9/20\n",
            "30/30 [==============================] - 1s 18ms/step - loss: 0.0720 - accuracy: 0.9818 - val_loss: 0.3546 - val_accuracy: 0.8812\n",
            "Epoch 10/20\n",
            "30/30 [==============================] - 1s 19ms/step - loss: 0.0585 - accuracy: 0.9853 - val_loss: 0.3736 - val_accuracy: 0.8778\n",
            "Epoch 11/20\n",
            "30/30 [==============================] - 1s 18ms/step - loss: 0.0499 - accuracy: 0.9867 - val_loss: 0.4098 - val_accuracy: 0.8729\n",
            "Epoch 12/20\n",
            "30/30 [==============================] - 1s 18ms/step - loss: 0.0390 - accuracy: 0.9911 - val_loss: 0.4311 - val_accuracy: 0.8738\n",
            "Epoch 13/20\n",
            "30/30 [==============================] - 1s 19ms/step - loss: 0.0327 - accuracy: 0.9935 - val_loss: 0.4623 - val_accuracy: 0.8746\n",
            "Epoch 14/20\n",
            "30/30 [==============================] - 1s 19ms/step - loss: 0.0247 - accuracy: 0.9957 - val_loss: 0.4983 - val_accuracy: 0.8707\n",
            "Epoch 15/20\n",
            "30/30 [==============================] - 1s 19ms/step - loss: 0.0213 - accuracy: 0.9959 - val_loss: 0.5561 - val_accuracy: 0.8705\n",
            "Epoch 16/20\n",
            "30/30 [==============================] - 1s 19ms/step - loss: 0.0153 - accuracy: 0.9980 - val_loss: 0.6085 - val_accuracy: 0.8669\n",
            "Epoch 17/20\n",
            "30/30 [==============================] - 1s 19ms/step - loss: 0.0128 - accuracy: 0.9985 - val_loss: 0.6193 - val_accuracy: 0.8689\n",
            "Epoch 18/20\n",
            "30/30 [==============================] - 1s 19ms/step - loss: 0.0101 - accuracy: 0.9987 - val_loss: 0.6469 - val_accuracy: 0.8660\n",
            "Epoch 19/20\n",
            "30/30 [==============================] - 1s 19ms/step - loss: 0.0087 - accuracy: 0.9986 - val_loss: 0.6884 - val_accuracy: 0.8676\n",
            "Epoch 20/20\n",
            "30/30 [==============================] - 1s 18ms/step - loss: 0.0047 - accuracy: 0.9998 - val_loss: 0.7185 - val_accuracy: 0.8628\n"
          ]
        }
      ]
    },
    {
      "cell_type": "code",
      "source": [
        "history_dict = history.history\n",
        "history_dict.keys()"
      ],
      "metadata": {
        "colab": {
          "base_uri": "https://localhost:8080/"
        },
        "id": "CUvFflli2gSb",
        "outputId": "cec0711c-0525-47b3-b173-9af5765fe482"
      },
      "execution_count": 27,
      "outputs": [
        {
          "output_type": "execute_result",
          "data": {
            "text/plain": [
              "dict_keys(['loss', 'accuracy', 'val_loss', 'val_accuracy'])"
            ]
          },
          "metadata": {},
          "execution_count": 27
        }
      ]
    },
    {
      "cell_type": "code",
      "source": [
        "#plotting the loss for train and val set\n",
        "import matplotlib.pyplot as plt\n",
        "loss_values = history_dict[\"loss\"]\n",
        "val_loss_values = history_dict[\"val_loss\"]\n",
        "epochs = range(1, len(loss_values)+1)\n",
        "\n",
        "plt.plot(epochs, loss_values, \"bo\", label=\"Training-Loss\")\n",
        "plt.plot(epochs, val_loss_values, \"b\", label=\"validation-Loss\")\n",
        "plt.title(\"Training and Validation loss for IMDB cllassification task\")\n",
        "plt.xlabel(\"Epochs\")\n",
        "plt.ylabel(\"Loss\")\n",
        "plt.legend()\n",
        "plt.show()\n",
        "\n",
        "\n",
        "#Plotting accuracy for train and val set as well\n",
        "acc_values = history_dict[\"accuracy\"]\n",
        "val_acc_values = history_dict[\"val_accuracy\"]\n",
        "epochs = range(1, len(acc_values)+1)\n",
        "\n",
        "plt.plot(epochs, acc_values, \"bo\", label=\"Training-Acc\")\n",
        "plt.plot(epochs, val_acc_values, \"b\", label=\"validation-Acc\")\n",
        "plt.title(\"Training and Validation Accuracy for IMDB cllassification task\")\n",
        "plt.xlabel(\"Epochs\")\n",
        "plt.ylabel(\"Accuracy\")\n",
        "plt.legend()\n",
        "plt.show()"
      ],
      "metadata": {
        "colab": {
          "base_uri": "https://localhost:8080/",
          "height": 573
        },
        "id": "JFh6kV5o3uyb",
        "outputId": "963a626a-8fa8-4d5b-b1d3-3a06f45fc80a"
      },
      "execution_count": 30,
      "outputs": [
        {
          "output_type": "display_data",
          "data": {
            "image/png": "[encoded data removed]",
            "text/plain": [
              "<Figure size 432x288 with 1 Axes>"
            ]
          },
          "metadata": {
            "needs_background": "light"
          }
        },
        {
          "output_type": "display_data",
          "data": {
            "image/png": "[encoded data removed]",
            "text/plain": [
              "<Figure size 432x288 with 1 Axes>"
            ]
          },
          "metadata": {
            "needs_background": "light"
          }
        }
      ]
    },
    {
      "cell_type": "markdown",
      "source": [
        "### Overfitting\n",
        "It seems by looking at the graphs that Validation los was decreasing uptill around 4 epochs and then the model started over-optimizing on the training data and learns features that are specific to train data and don't generalize to data outside the traiining set.\n",
        "\n",
        "Lets train till 4 epochs only this time and lets train on entire s_train and y_train and test on x_test and y_test -\n"
      ],
      "metadata": {
        "id": "NG4H_UY-6RrZ"
      }
    },
    {
      "cell_type": "code",
      "source": [
        "model = keras.Sequential([\n",
        "                          layers.Dense(16, activation=\"relu\"),\n",
        "                          layers.Dense(16, activation=\"relu\"),\n",
        "                          #Sigmoid to output a probability value between 0 and 1\n",
        "                          layers.Dense(1, activation=\"sigmoid\")\n",
        "                        ])\n",
        "\n",
        "model.compile(optimizer=\"RMSprop\",\n",
        "              loss=\"binary_crossentropy\",\n",
        "              metrics=[\"accuracy\"])\n",
        "\n",
        "model.fit(x_train, y_train, epochs=4, batch_size=512)\n",
        "results = model.evaluate(x_test, y_test)\n",
        "\n",
        "#Results are test_loss, and test_accuracy\n",
        "results"
      ],
      "metadata": {
        "colab": {
          "base_uri": "https://localhost:8080/"
        },
        "id": "UZ177zeI5W6p",
        "outputId": "b903f472-7a4e-491d-c220-94e50e7dec90"
      },
      "execution_count": 33,
      "outputs": [
        {
          "output_type": "stream",
          "name": "stdout",
          "text": [
            "Epoch 1/4\n",
            "49/49 [==============================] - 1s 12ms/step - loss: 0.4690 - accuracy: 0.8219\n",
            "Epoch 2/4\n",
            "49/49 [==============================] - 1s 11ms/step - loss: 0.2703 - accuracy: 0.9078\n",
            "Epoch 3/4\n",
            "49/49 [==============================] - 1s 12ms/step - loss: 0.2066 - accuracy: 0.9270\n",
            "Epoch 4/4\n",
            "49/49 [==============================] - 1s 12ms/step - loss: 0.1719 - accuracy: 0.9388\n",
            "782/782 [==============================] - 2s 2ms/step - loss: 0.2997 - accuracy: 0.8818\n"
          ]
        },
        {
          "output_type": "execute_result",
          "data": {
            "text/plain": [
              "[0.2996905744075775, 0.8817999958992004]"
            ]
          },
          "metadata": {},
          "execution_count": 33
        }
      ]
    },
    {
      "cell_type": "code",
      "source": [
        "#Checing out model predictions on test data\n",
        "#This will produce an array of predicted probabilities for every review \n",
        "model.predict(x_test)\n"
      ],
      "metadata": {
        "colab": {
          "base_uri": "https://localhost:8080/"
        },
        "id": "jus5V3YX8O5T",
        "outputId": "3d70c725-6521-4a33-aa43-37298c28c996"
      },
      "execution_count": 34,
      "outputs": [
        {
          "output_type": "execute_result",
          "data": {
            "text/plain": [
              "array([[0.2240514 ],\n",
              "       [0.9997911 ],\n",
              "       [0.9131592 ],\n",
              "       ...,\n",
              "       [0.16975327],\n",
              "       [0.10772933],\n",
              "       [0.7767013 ]], dtype=float32)"
            ]
          },
          "metadata": {},
          "execution_count": 34
        }
      ]
    },
    {
      "cell_type": "code",
      "source": [
        ""
      ],
      "metadata": {
        "id": "zmDsDm0H9RSp"
      },
      "execution_count": null,
      "outputs": []
    }
  ]
}